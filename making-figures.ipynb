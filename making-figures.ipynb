{
 "cells": [
  {
   "cell_type": "code",
   "execution_count": 1,
   "metadata": {},
   "outputs": [],
   "source": [
    "import numpy as np\n",
    "import matplotlib.pyplot as plt"
   ]
  },
  {
   "cell_type": "code",
   "execution_count": null,
   "metadata": {},
   "outputs": [],
   "source": [
    "# calculate and plot the difference between two wavefields\n",
    "\n",
    "def calculate_diff(unscaled_field, scaled_field):\n",
    "    \"pass the data from the fields, p.data[0] and p_s.data[0] for example\"\n",
    "    diff_field = (unscaled_field - scaled_field)\n",
    "    # Calculate maximum values for color scaling\n",
    "    vmax_unscaled = np.amax(np.abs(unscaled_field))\n",
    "    vmax_scaled = np.amax(np.abs(scaled_field))\n",
    "    vmax_diff = np.amax(np.abs(diff_field))\n",
    "\n",
    "    # Create a figure with 3 subplots in one row\n",
    "    fig, ax = plt.subplots(1, 4, figsize=(24, 6))  # 1 row, 3 columns\n",
    "\n",
    "    # Plot unscaled field\n",
    "    im1 = ax[0].imshow(unscaled_field, cmap='seismic', vmin=-vmax_unscaled, vmax=vmax_unscaled)\n",
    "    ax[0].set_title(\"Unscaled Field\")\n",
    "    ax[0].set_xlabel(\"X (m)\")\n",
    "    ax[0].set_ylabel(\"Z (m)\")\n",
    "    fig.colorbar(im1, ax=ax[0], shrink=0.6)\n",
    "\n",
    "    # Plot scaled field\n",
    "    im2 = ax[1].imshow(scaled_field, cmap='seismic', vmin=-vmax_scaled, vmax=vmax_scaled)\n",
    "    ax[1].set_title(\"Scaled Field\")\n",
    "    ax[1].set_xlabel(\"X (m)\")\n",
    "    ax[1].set_ylabel(\"Z (m)\")\n",
    "    fig.colorbar(im2, ax=ax[1], shrink=0.6)\n",
    "\n",
    "    # Plot the true difference field\n",
    "    # use the vmax and vmin of either the scaled or unscaled field to normalise the diff against this\n",
    "    im3 = ax[2].imshow(diff_field, cmap='seismic',  vmin=-vmax_diff, vmax=vmax_diff)\n",
    "    ax[2].set_title(\"True difference\")\n",
    "    ax[2].set_xlabel(\"X (m)\")\n",
    "    ax[2].set_ylabel(\"Z (m)\")\n",
    "    fig.colorbar(im3, ax=ax[2], shrink=0.6)\n",
    "\n",
    "    # Plot the normalised difference field\n",
    "    # use the vmax and vmin of either the scaled or unscaled field to normalise the diff against this\n",
    "    im4 = ax[3].imshow(diff_field, cmap='seismic',  vmin=-vmax_unscaled, vmax=vmax_unscaled)\n",
    "    ax[3].set_title(\"Normalised difference\")\n",
    "    ax[3].set_xlabel(\"X (m)\")\n",
    "    ax[3].set_ylabel(\"Z (m)\")\n",
    "    fig.colorbar(im4, ax=ax[3], shrink=0.6)\n",
    "\n",
    "    # Adjust layout for better spacing\n",
    "    plt.tight_layout()\n",
    "\n",
    "    # couple of print statements to show the max/min difference\n",
    "    print(\"Maximum value of the difference:\", np.amax(diff_field))\n",
    "    print(\"Minimum value of the difference:\", np.amin(diff_field))\n",
    "\n",
    "    # Show the plot\n",
    "    plt.show()"
   ]
  }
 ],
 "metadata": {
  "kernelspec": {
   "display_name": "devito-env",
   "language": "python",
   "name": "python3"
  },
  "language_info": {
   "codemirror_mode": {
    "name": "ipython",
    "version": 3
   },
   "file_extension": ".py",
   "mimetype": "text/x-python",
   "name": "python",
   "nbconvert_exporter": "python",
   "pygments_lexer": "ipython3",
   "version": "3.8.19"
  }
 },
 "nbformat": 4,
 "nbformat_minor": 2
}
