{
 "cells": [
  {
   "cell_type": "markdown",
   "metadata": {},
   "source": [
    "# Scaling Elastic Wave Equations from Virieux 1986"
   ]
  },
  {
   "cell_type": "code",
   "execution_count": 2,
   "metadata": {},
   "outputs": [],
   "source": [
    "# import dependencies\n",
    "import devito as dv\n",
    "import numpy as np\n",
    "import sympy as sp\n",
    "import matplotlib.pyplot as plt\n",
    "from examples.seismic.source import TimeAxis\n",
    "from examples.seismic import RickerSource"
   ]
  },
  {
   "cell_type": "markdown",
   "metadata": {},
   "source": [
    "### Implementing unscaled constant parameter propagation"
   ]
  },
  {
   "cell_type": "code",
   "execution_count": 5,
   "metadata": {},
   "outputs": [
    {
     "data": {
      "text/latex": [
       "$\\displaystyle \\left[\\begin{matrix}t_xx(t, x, z) & t_xz(t, x + h_x/2, z + h_z/2)\\\\t_xz(t, x + h_x/2, z + h_z/2) & t_zz(t, x, z)\\end{matrix}\\right]$"
      ],
      "text/plain": [
       "Matrix([\n",
       "[                t_xx(t, x, z), t_xz(t, x + h_x/2, z + h_z/2)],\n",
       "[t_xz(t, x + h_x/2, z + h_z/2),                 t_zz(t, x, z)]])"
      ]
     },
     "execution_count": 5,
     "metadata": {},
     "output_type": "execute_result"
    }
   ],
   "source": [
    "# set up grid\n",
    "extent = (2000, 2000)\n",
    "shape = (201, 201)\n",
    "x = dv.SpaceDimension('x')\n",
    "z = dv.SpaceDimension('z')\n",
    "grid = dv.Grid(extent=extent, shape=shape, dimensions=(x, z))\n",
    "\n",
    "# create the velocity and pressure fields\n",
    "v = dv.VectorTimeFunction(name='v', grid=grid, space_order=8, time_order=1)\n",
    "tau = dv.TensorTimeFunction(name='t', grid=grid, space_order=8, time_order=1)\n",
    "\n",
    "# "
   ]
  },
  {
   "cell_type": "code",
   "execution_count": null,
   "metadata": {},
   "outputs": [],
   "source": []
  }
 ],
 "metadata": {
  "kernelspec": {
   "display_name": "devito-env",
   "language": "python",
   "name": "python3"
  },
  "language_info": {
   "codemirror_mode": {
    "name": "ipython",
    "version": 3
   },
   "file_extension": ".py",
   "mimetype": "text/x-python",
   "name": "python",
   "nbconvert_exporter": "python",
   "pygments_lexer": "ipython3",
   "version": "3.8.19"
  }
 },
 "nbformat": 4,
 "nbformat_minor": 2
}
