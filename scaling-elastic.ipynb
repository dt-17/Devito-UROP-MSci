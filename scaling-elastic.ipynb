{
 "cells": [
  {
   "cell_type": "markdown",
   "metadata": {},
   "source": [
    "# Scaling Elastic Wave Equations from Virieux 1986"
   ]
  },
  {
   "cell_type": "code",
   "execution_count": 2,
   "metadata": {},
   "outputs": [],
   "source": [
    "# import dependencies\n",
    "import devito as dv\n",
    "import numpy as np\n",
    "import sympy as sp\n",
    "import matplotlib.pyplot as plt\n",
    "from examples.seismic.source import TimeAxis\n",
    "from examples.seismic import RickerSource"
   ]
  },
  {
   "cell_type": "markdown",
   "metadata": {},
   "source": [
    "### Implementing unscaled constant parameter propagation"
   ]
  },
  {
   "cell_type": "code",
   "execution_count": 38,
   "metadata": {},
   "outputs": [],
   "source": [
    "# set up grid\n",
    "extent = (2000, 2000)\n",
    "shape = (201, 201)\n",
    "x = dv.SpaceDimension('x')\n",
    "z = dv.SpaceDimension('z')\n",
    "grid = dv.Grid(extent=extent, shape=shape, dimensions=(x, z))\n",
    "\n",
    "# create the velocity and pressure fields\n",
    "v = dv.VectorTimeFunction(name='v', grid=grid, space_order=8, time_order=1)\n",
    "tau = dv.TensorTimeFunction(name='tau', grid=grid, space_order=8, time_order=1)\n",
    "\n",
    "# define constants\n",
    "constants = {\n",
    "    \"vp\": 3,\n",
    "    \"vs\": 1.5,\n",
    "    \"density\": 2.4,\n",
    "    \"f0\": 0.03\n",
    "}\n",
    "\n",
    "# find dt using CFL condition\n",
    "vmax = max(constants['vp'], constants['vs'])\n",
    "dt = np.amin(grid.spacing)*0.6/vmax\n",
    "\n",
    "# define a time range for the source term\n",
    "t0 = 0\n",
    "tn = 250\n",
    "time_range = TimeAxis(start=t0, stop=tn, step=dt)\n",
    "\n",
    "# define equations\n",
    "eq_vx = v[0].dt - 1/constants['density']*(tau[0, 0].dx + tau[0, 1].dz)\n",
    "eq_vz = v[1].dt - 1/constants['density']*(tau[0, 1].dx + tau[1, 1].dz)\n",
    "eq_sxx = tau[0, 0].dt - constants['vp']**2*constants['density']*v[0].dx + constants['density']*(constants['vp']**2 - 2*constants['vs']**2)*v[1].dz\n",
    "eq_szz = tau[1, 1].dt - constants['vp']**2*constants['density']*v[1].dz + constants['density']*(constants['vp']**2 - 2*constants['vs']**2)*v[0].dx\n",
    "eq_sxz = tau[0, 1].dt - constants['vs']**2*constants['density']*(v[0].dz + v[1].dx)"
   ]
  },
  {
   "cell_type": "code",
   "execution_count": null,
   "metadata": {},
   "outputs": [],
   "source": []
  }
 ],
 "metadata": {
  "kernelspec": {
   "display_name": "devito-env",
   "language": "python",
   "name": "python3"
  },
  "language_info": {
   "codemirror_mode": {
    "name": "ipython",
    "version": 3
   },
   "file_extension": ".py",
   "mimetype": "text/x-python",
   "name": "python",
   "nbconvert_exporter": "python",
   "pygments_lexer": "ipython3",
   "version": "3.8.19"
  }
 },
 "nbformat": 4,
 "nbformat_minor": 2
}
